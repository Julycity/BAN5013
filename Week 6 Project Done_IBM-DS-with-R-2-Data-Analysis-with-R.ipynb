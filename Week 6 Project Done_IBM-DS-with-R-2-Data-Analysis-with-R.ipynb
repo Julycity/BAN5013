{
 "cells": [
  {
   "cell_type": "markdown",
   "metadata": {},
   "source": [
    "<center><img src=\"https://cf-courses-data.s3.us.cloud-object-storage.appdomain.cloud/assets/logos/SN_web_lightmode.png\" width=\"300\"></center><br/>\n",
    "\n",
    "# Assignment: Notebook for Peer Assignment\n",
    "\n",
    "Estimated time needed: 60 minutes\n"
   ]
  },
  {
   "cell_type": "markdown",
   "metadata": {},
   "source": [
    "# Assignment Scenario\n",
    "\n",
    "Congratulations! You have just been hired by a US Weather forecast firm as a data scientist.\n",
    "\n",
    "The company is considering the weather condition to help predict the possibility of precipitations, which involves using various local climatological variables, including temperature, wind speed, humidity, dew point, and pressure. The data you will be handling was collected by a NOAA weather station located at the John F. Kennedy International Airport in Queens, New York.\n",
    "\n",
    "Your task is to provide a high level analysis of weather data in JFK Airport. Your stakeholders want to understand the current and historical record of precipitations based on different variables. For now they are mainly interested in a macro-view of JFK Airport Weather, and how it relates to the possibility to rain because it will affect flight delays and etc.\n"
   ]
  },
  {
   "cell_type": "markdown",
   "metadata": {},
   "source": [
    "# Introduction\n",
    "\n",
    "This project relates to the NOAA Weather Dataset - JFK Airport (New York). The original dataset contains 114,546 hourly observations of 12 local climatological variables (such as temperature and wind speed) collected at JFK airport. This dataset can be obtained for free from the IBM Developer [Data Asset Exchange](https://developer.ibm.com/exchanges/data/all/jfk-weather-data/). \n",
    "\n",
    "For this project, you will be using a subset dataset, which contains 5727 rows (about 5% or original rows) and 9 columns. The end goal will be to predict the precipitation using some of the available features. In this project, you will practice reading data files, preprocessing data, creating models, improving models and evaluating them to ultimately choose the best model.\n",
    "\n"
   ]
  },
  {
   "cell_type": "markdown",
   "metadata": {},
   "source": [
    "\n",
    "## Table of Contents:\n",
    "\n",
    "Using this R notebook you will complete **10 tasks**:\n",
    "* [0. Import Modules](#cell0)\n",
    "* [1. Download and Unzip NOAA Weather Dataset](#cell1)\n",
    "* [2. Read Dataset into Project](#cell2)\n",
    "* [3. Select Subset of Columns](#cell3)\n",
    "* [4. Clean Up Columns](#cell4)\n",
    "* [5. Convert Columns to Numerical Types](#cell5)\n",
    "* [6. Rename Columns](#cell6)\n",
    "* [7. Exploratory Data Analysis](#cell7)\n",
    "* [8. Linear Regression](#cell8)\n",
    "* [9. Improve the Model](#cell9)\n",
    "* [10. Find Best Model](#cell10)\n",
    "\n",
    "\n",
    "<a id=\"cell0\"></a>\n",
    "## 0. Import required modules\n",
    "\n",
    "Tidymodels is a collection of packages that use tidyverse principles to easily do the entire modeling process from preprocessing initial data, to creating a model, to tunning hyperparameters. The tidymodels packages can be used to produce high quality statistical and machine learning models. Our Jupyter notebook platforms have a built-in Tidyverse, Tidymodels and rlang packages so we do not need to install these packages prior to loading library. However, if you decide to run this lab on your RStudio Desktop locally on your machine, you can remove the commented lines of code to install these packages before loading.\n",
    " \n"
   ]
  },
  {
   "cell_type": "code",
   "execution_count": 9,
   "metadata": {},
   "outputs": [],
   "source": [
    "# Install tidymodels if you haven't done so\n",
    "# install.packages(\"rlang\")\n",
    "# install.packages(\"tidymodels\")\n",
    "\n",
    "# already installed locally\n",
    "\n",
    "\n"
   ]
  },
  {
   "cell_type": "markdown",
   "metadata": {},
   "source": [
    "**Note: After installing the packages, restart the kernel. Without installing the packages again, load them. Tidyverse and Tidymodels will be the two main packages you will use.**\n"
   ]
  },
  {
   "cell_type": "code",
   "execution_count": 114,
   "metadata": {},
   "outputs": [],
   "source": [
    "# Load tidymodels\n",
    "library(tidymodels)"
   ]
  },
  {
   "cell_type": "code",
   "execution_count": 116,
   "metadata": {},
   "outputs": [],
   "source": [
    "library(rlang)"
   ]
  },
  {
   "cell_type": "code",
   "execution_count": 118,
   "metadata": {},
   "outputs": [],
   "source": [
    "library(tidyverse)"
   ]
  },
  {
   "cell_type": "markdown",
   "metadata": {},
   "source": [
    "\n",
    "### Understand the Dataset\n",
    "\n",
    "The original NOAA JFK dataset contains 114,546 hourly observations of various local climatological variables (including temperature, wind speed, humidity, dew point, and pressure). \n",
    "\n",
    "In this project you will use a sample dataset, which is around 293 KB. [Link to the sample dataset](https://dax-cdn.cdn.appdomain.cloud/dax-noaa-weather-data-jfk-airport/1.1.4/noaa-weather-sample-data.tar.gz).\n",
    "\n",
    "The sample contains 5727 rows (about 5% or original rows) and 9 columns, which are:\n",
    "- DATE\n",
    "- HOURLYDewPointTempF\n",
    "- HOURLYRelativeHumidity\n",
    "- HOURLYDRYBULBTEMPF\n",
    "- HOURLYWETBULBTEMPF\n",
    "- HOURLYPrecip\n",
    "- HOURLYWindSpeed\n",
    "- HOURLYSeaLevelPressure\n",
    "- HOURLYStationPressure\n",
    "\n",
    "The original dataset is much bigger. Feel free to explore the original dataset. [Link to the original dataset.](https://dax-cdn.cdn.appdomain.cloud/dax-noaa-weather-data-jfk-airport/1.1.4/noaa_weather.html) \n",
    "\n",
    "For more information about the dataset, checkout the [preview](https://dax-cdn.cdn.appdomain.cloud/dax-noaa-weather-data-jfk-airport/1.1.4/data-preview/index.html?_ga=2.176781478.281508226.1616293518-1509963377.1616117067&cm_mc_uid=90945889198916153255549&cm_mc_sid_50200000=64650651616293516933) of NOAA Weather - JFK Airport.\n"
   ]
  },
  {
   "cell_type": "markdown",
   "metadata": {},
   "source": [
    "<a id=\"cell1\"></a>\n",
    "\n",
    "## 1. Download NOAA Weather Dataset\n",
    "\n",
    "\n",
    "url <- \"https://dax-cdn.cdn.appdomain.cloud/dax-noaa-weather-data-jfk-airport/1.1.4/noaa-weather-sample-data.tar.gz\"\n"
   ]
  },
  {
   "cell_type": "code",
   "execution_count": 122,
   "metadata": {},
   "outputs": [],
   "source": [
    "\n",
    "url <- \"https://dax-cdn.cdn.appdomain.cloud/dax-noaa-weather-data-jfk-airport/1.1.4/noaa-weather-sample-data.tar.gz\"\n",
    "# download the file\n",
    "download.file(url, destfile = \"noaa-weather-sample-data.tar.gz\")\n"
   ]
  },
  {
   "cell_type": "markdown",
   "metadata": {},
   "source": [
    "Untar the zipped file.\n"
   ]
  },
  {
   "cell_type": "code",
   "execution_count": 125,
   "metadata": {},
   "outputs": [
    {
     "name": "stderr",
     "output_type": "stream",
     "text": [
      "Warning message in untar2(tarfile, files, list, exdir, restore_times):\n",
      "\"using pax extended headers\"\n"
     ]
    }
   ],
   "source": [
    "# untar the file so we can get the csv only\n",
    "untar(\"noaa-weather-sample-data.tar.gz\", tar = \"internal\")"
   ]
  },
  {
   "cell_type": "markdown",
   "metadata": {},
   "source": [
    "<a id=\"cell2\"></a>\n",
    "## 2. Extract and Read into Project\n",
    "We start by reading in the raw dataset. You should specify the file name as \"noaa-weather-sample-data/jfk_weather_sample.csv\".\n"
   ]
  },
  {
   "cell_type": "code",
   "execution_count": 128,
   "metadata": {},
   "outputs": [
    {
     "name": "stderr",
     "output_type": "stream",
     "text": [
      "\u001b[1mRows: \u001b[22m\u001b[34m5727\u001b[39m \u001b[1mColumns: \u001b[22m\u001b[34m9\u001b[39m\n",
      "\u001b[36m--\u001b[39m \u001b[1mColumn specification\u001b[22m \u001b[36m------------------------------------------------------------------------------------------------\u001b[39m\n",
      "\u001b[1mDelimiter:\u001b[22m \",\"\n",
      "\u001b[31mchr\u001b[39m  (1): HOURLYPrecip\n",
      "\u001b[32mdbl\u001b[39m  (7): HOURLYDewPointTempF, HOURLYRelativeHumidity, HOURLYDRYBULBTEMPF, H...\n",
      "\u001b[34mdttm\u001b[39m (1): DATE\n",
      "\n",
      "\u001b[36mi\u001b[39m Use `spec()` to retrieve the full column specification for this data.\n",
      "\u001b[36mi\u001b[39m Specify the column types or set `show_col_types = FALSE` to quiet this message.\n"
     ]
    }
   ],
   "source": [
    "# read_csv only \n",
    "noaafile <- read_csv(\"noaa-weather-sample-data/jfk_weather_sample.csv\")"
   ]
  },
  {
   "cell_type": "markdown",
   "metadata": {},
   "source": [
    "Next, display the first few rows of the dataframe.\n"
   ]
  },
  {
   "cell_type": "code",
   "execution_count": 131,
   "metadata": {},
   "outputs": [
    {
     "data": {
      "text/html": [
       "<table class=\"dataframe\">\n",
       "<caption>A tibble: 6 × 9</caption>\n",
       "<thead>\n",
       "\t<tr><th scope=col>DATE</th><th scope=col>HOURLYDewPointTempF</th><th scope=col>HOURLYRelativeHumidity</th><th scope=col>HOURLYDRYBULBTEMPF</th><th scope=col>HOURLYWETBULBTEMPF</th><th scope=col>HOURLYPrecip</th><th scope=col>HOURLYWindSpeed</th><th scope=col>HOURLYSeaLevelPressure</th><th scope=col>HOURLYStationPressure</th></tr>\n",
       "\t<tr><th scope=col>&lt;dttm&gt;</th><th scope=col>&lt;dbl&gt;</th><th scope=col>&lt;dbl&gt;</th><th scope=col>&lt;dbl&gt;</th><th scope=col>&lt;dbl&gt;</th><th scope=col>&lt;chr&gt;</th><th scope=col>&lt;dbl&gt;</th><th scope=col>&lt;dbl&gt;</th><th scope=col>&lt;dbl&gt;</th></tr>\n",
       "</thead>\n",
       "<tbody>\n",
       "\t<tr><td>2015-07-25 13:51:00</td><td>60</td><td>46</td><td>83</td><td>68</td><td>0.00</td><td>13</td><td>30.01</td><td>29.99</td></tr>\n",
       "\t<tr><td>2016-11-18 23:51:00</td><td>34</td><td>48</td><td>53</td><td>44</td><td>0.00</td><td> 6</td><td>30.05</td><td>30.03</td></tr>\n",
       "\t<tr><td>2013-01-06 08:51:00</td><td>33</td><td>89</td><td>36</td><td>35</td><td>0.00</td><td>13</td><td>30.14</td><td>30.12</td></tr>\n",
       "\t<tr><td>2011-01-27 16:51:00</td><td>18</td><td>48</td><td>36</td><td>30</td><td>0.00</td><td>14</td><td>29.82</td><td>29.80</td></tr>\n",
       "\t<tr><td>2015-01-03 12:16:00</td><td>27</td><td>61</td><td>39</td><td>34</td><td>T   </td><td>11</td><td>   NA</td><td>30.50</td></tr>\n",
       "\t<tr><td>2013-02-15 20:51:00</td><td>35</td><td>79</td><td>41</td><td>38</td><td>0.00</td><td> 6</td><td>29.94</td><td>29.92</td></tr>\n",
       "</tbody>\n",
       "</table>\n"
      ],
      "text/latex": [
       "A tibble: 6 × 9\n",
       "\\begin{tabular}{lllllllll}\n",
       " DATE & HOURLYDewPointTempF & HOURLYRelativeHumidity & HOURLYDRYBULBTEMPF & HOURLYWETBULBTEMPF & HOURLYPrecip & HOURLYWindSpeed & HOURLYSeaLevelPressure & HOURLYStationPressure\\\\\n",
       " <dttm> & <dbl> & <dbl> & <dbl> & <dbl> & <chr> & <dbl> & <dbl> & <dbl>\\\\\n",
       "\\hline\n",
       "\t 2015-07-25 13:51:00 & 60 & 46 & 83 & 68 & 0.00 & 13 & 30.01 & 29.99\\\\\n",
       "\t 2016-11-18 23:51:00 & 34 & 48 & 53 & 44 & 0.00 &  6 & 30.05 & 30.03\\\\\n",
       "\t 2013-01-06 08:51:00 & 33 & 89 & 36 & 35 & 0.00 & 13 & 30.14 & 30.12\\\\\n",
       "\t 2011-01-27 16:51:00 & 18 & 48 & 36 & 30 & 0.00 & 14 & 29.82 & 29.80\\\\\n",
       "\t 2015-01-03 12:16:00 & 27 & 61 & 39 & 34 & T    & 11 &    NA & 30.50\\\\\n",
       "\t 2013-02-15 20:51:00 & 35 & 79 & 41 & 38 & 0.00 &  6 & 29.94 & 29.92\\\\\n",
       "\\end{tabular}\n"
      ],
      "text/markdown": [
       "\n",
       "A tibble: 6 × 9\n",
       "\n",
       "| DATE &lt;dttm&gt; | HOURLYDewPointTempF &lt;dbl&gt; | HOURLYRelativeHumidity &lt;dbl&gt; | HOURLYDRYBULBTEMPF &lt;dbl&gt; | HOURLYWETBULBTEMPF &lt;dbl&gt; | HOURLYPrecip &lt;chr&gt; | HOURLYWindSpeed &lt;dbl&gt; | HOURLYSeaLevelPressure &lt;dbl&gt; | HOURLYStationPressure &lt;dbl&gt; |\n",
       "|---|---|---|---|---|---|---|---|---|\n",
       "| 2015-07-25 13:51:00 | 60 | 46 | 83 | 68 | 0.00 | 13 | 30.01 | 29.99 |\n",
       "| 2016-11-18 23:51:00 | 34 | 48 | 53 | 44 | 0.00 |  6 | 30.05 | 30.03 |\n",
       "| 2013-01-06 08:51:00 | 33 | 89 | 36 | 35 | 0.00 | 13 | 30.14 | 30.12 |\n",
       "| 2011-01-27 16:51:00 | 18 | 48 | 36 | 30 | 0.00 | 14 | 29.82 | 29.80 |\n",
       "| 2015-01-03 12:16:00 | 27 | 61 | 39 | 34 | T    | 11 |    NA | 30.50 |\n",
       "| 2013-02-15 20:51:00 | 35 | 79 | 41 | 38 | 0.00 |  6 | 29.94 | 29.92 |\n",
       "\n"
      ],
      "text/plain": [
       "  DATE                HOURLYDewPointTempF HOURLYRelativeHumidity\n",
       "1 2015-07-25 13:51:00 60                  46                    \n",
       "2 2016-11-18 23:51:00 34                  48                    \n",
       "3 2013-01-06 08:51:00 33                  89                    \n",
       "4 2011-01-27 16:51:00 18                  48                    \n",
       "5 2015-01-03 12:16:00 27                  61                    \n",
       "6 2013-02-15 20:51:00 35                  79                    \n",
       "  HOURLYDRYBULBTEMPF HOURLYWETBULBTEMPF HOURLYPrecip HOURLYWindSpeed\n",
       "1 83                 68                 0.00         13             \n",
       "2 53                 44                 0.00          6             \n",
       "3 36                 35                 0.00         13             \n",
       "4 36                 30                 0.00         14             \n",
       "5 39                 34                 T            11             \n",
       "6 41                 38                 0.00          6             \n",
       "  HOURLYSeaLevelPressure HOURLYStationPressure\n",
       "1 30.01                  29.99                \n",
       "2 30.05                  30.03                \n",
       "3 30.14                  30.12                \n",
       "4 29.82                  29.80                \n",
       "5    NA                  30.50                \n",
       "6 29.94                  29.92                "
      ]
     },
     "metadata": {},
     "output_type": "display_data"
    }
   ],
   "source": [
    "head(noaafile,6)"
   ]
  },
  {
   "cell_type": "markdown",
   "metadata": {},
   "source": [
    "Also, take a `glimpse` of the dataset to see the different column data types and make sure it is the correct subset dataset with about 5700 rows and 9 columns.\n"
   ]
  },
  {
   "cell_type": "code",
   "execution_count": 134,
   "metadata": {},
   "outputs": [
    {
     "name": "stdout",
     "output_type": "stream",
     "text": [
      "Rows: 5,727\n",
      "Columns: 9\n",
      "$ DATE                   \u001b[3m\u001b[90m<dttm>\u001b[39m\u001b[23m 2015-07-25 13:51:00, 2016-11-18 23:51:00, 2013~\n",
      "$ HOURLYDewPointTempF    \u001b[3m\u001b[90m<dbl>\u001b[39m\u001b[23m 60, 34, 33, 18, 27, 35, 4, 14, 51, 71, 76, 19, ~\n",
      "$ HOURLYRelativeHumidity \u001b[3m\u001b[90m<dbl>\u001b[39m\u001b[23m 46, 48, 89, 48, 61, 79, 51, 65, 90, 94, 79, 37,~\n",
      "$ HOURLYDRYBULBTEMPF     \u001b[3m\u001b[90m<dbl>\u001b[39m\u001b[23m 83, 53, 36, 36, 39, 41, 19, 24, 54, 73, 83, 44,~\n",
      "$ HOURLYWETBULBTEMPF     \u001b[3m\u001b[90m<dbl>\u001b[39m\u001b[23m 68, 44, 35, 30, 34, 38, 15, 21, 52, 72, 78, 35,~\n",
      "$ HOURLYPrecip           \u001b[3m\u001b[90m<chr>\u001b[39m\u001b[23m \"0.00\", \"0.00\", \"0.00\", \"0.00\", \"T\", \"0.00\", \"0~\n",
      "$ HOURLYWindSpeed        \u001b[3m\u001b[90m<dbl>\u001b[39m\u001b[23m 13, 6, 13, 14, 11, 6, 0, 11, 11, 5, 21, 7, 17, ~\n",
      "$ HOURLYSeaLevelPressure \u001b[3m\u001b[90m<dbl>\u001b[39m\u001b[23m 30.01, 30.05, 30.14, 29.82, NA, 29.94, 30.42, 3~\n",
      "$ HOURLYStationPressure  \u001b[3m\u001b[90m<dbl>\u001b[39m\u001b[23m 29.99, 30.03, 30.12, 29.80, 30.50, 29.92, 30.40~\n"
     ]
    }
   ],
   "source": [
    "glimpse(noaafile)"
   ]
  },
  {
   "cell_type": "markdown",
   "metadata": {},
   "source": [
    "<a id=\"cell3\"></a>\n",
    "## 3. Select Subset of Columns\n",
    "\n",
    "The end goal of this project will be to predict `HOURLYprecip` (precipitation) using a few other variables. Before you can do this, you first need to preprocess the dataset. Section 3 to section 6 focuses on preprocessing.\n",
    "\n",
    "The first step in preprocessing is to select a subset of data columns and inspect the column types.\n",
    "\n",
    "The key columns that we will explore in this project are:\n",
    "- HOURLYRelativeHumidity\n",
    "- HOURLYDRYBULBTEMPF\n",
    "- HOURLYPrecip\n",
    "- HOURLYWindSpeed\n",
    "- HOURLYStationPressure\n",
    "\n",
    "Data Glossary:\n",
    "- 'HOURLYRelativeHumidity' is the relative humidity given to the nearest whole percentage.\n",
    "- 'HOURLYDRYBULBTEMPF' is the dry-bulb temperature and is commonly used as the standard air temperature reported. It is given here in whole degrees Fahrenheit.\n",
    "- 'HOURLYPrecip' is the amount of precipitation in inches to hundredths over the past hour. For certain automated stations, precipitation will be reported at sub-hourly intervals (e.g. every 15 or 20 minutes) as an accumulated amount of all precipitation within the preceding hour. A “T” indicates a trace amount of precipitation.\n",
    "- 'HOURLYWindSpeed' is the speed of the wind at the time of observation given in miles per hour (mph).\n",
    "- 'HOURLYStationPressure' is the atmospheric pressure observed at the station during the time of observation. Given in inches of Mercury (in Hg).\n",
    "\n",
    "`Select` those five columns and store the modified dataframe as a new variable.\n"
   ]
  },
  {
   "cell_type": "code",
   "execution_count": 137,
   "metadata": {},
   "outputs": [],
   "source": [
    "selected_file <- noaafile %>% \n",
    "    select(HOURLYRelativeHumidity, HOURLYDRYBULBTEMPF, HOURLYPrecip, HOURLYWindSpeed, HOURLYStationPressure)"
   ]
  },
  {
   "cell_type": "markdown",
   "metadata": {},
   "source": [
    "Show the first 10 rows of this new dataframe.\n"
   ]
  },
  {
   "cell_type": "code",
   "execution_count": 140,
   "metadata": {},
   "outputs": [
    {
     "data": {
      "text/html": [
       "<table class=\"dataframe\">\n",
       "<caption>A tibble: 5 × 5</caption>\n",
       "<thead>\n",
       "\t<tr><th scope=col>HOURLYRelativeHumidity</th><th scope=col>HOURLYDRYBULBTEMPF</th><th scope=col>HOURLYPrecip</th><th scope=col>HOURLYWindSpeed</th><th scope=col>HOURLYStationPressure</th></tr>\n",
       "\t<tr><th scope=col>&lt;dbl&gt;</th><th scope=col>&lt;dbl&gt;</th><th scope=col>&lt;chr&gt;</th><th scope=col>&lt;dbl&gt;</th><th scope=col>&lt;dbl&gt;</th></tr>\n",
       "</thead>\n",
       "<tbody>\n",
       "\t<tr><td>46</td><td>83</td><td>0.00</td><td>13</td><td>29.99</td></tr>\n",
       "\t<tr><td>48</td><td>53</td><td>0.00</td><td> 6</td><td>30.03</td></tr>\n",
       "\t<tr><td>89</td><td>36</td><td>0.00</td><td>13</td><td>30.12</td></tr>\n",
       "\t<tr><td>48</td><td>36</td><td>0.00</td><td>14</td><td>29.80</td></tr>\n",
       "\t<tr><td>61</td><td>39</td><td>T   </td><td>11</td><td>30.50</td></tr>\n",
       "</tbody>\n",
       "</table>\n"
      ],
      "text/latex": [
       "A tibble: 5 × 5\n",
       "\\begin{tabular}{lllll}\n",
       " HOURLYRelativeHumidity & HOURLYDRYBULBTEMPF & HOURLYPrecip & HOURLYWindSpeed & HOURLYStationPressure\\\\\n",
       " <dbl> & <dbl> & <chr> & <dbl> & <dbl>\\\\\n",
       "\\hline\n",
       "\t 46 & 83 & 0.00 & 13 & 29.99\\\\\n",
       "\t 48 & 53 & 0.00 &  6 & 30.03\\\\\n",
       "\t 89 & 36 & 0.00 & 13 & 30.12\\\\\n",
       "\t 48 & 36 & 0.00 & 14 & 29.80\\\\\n",
       "\t 61 & 39 & T    & 11 & 30.50\\\\\n",
       "\\end{tabular}\n"
      ],
      "text/markdown": [
       "\n",
       "A tibble: 5 × 5\n",
       "\n",
       "| HOURLYRelativeHumidity &lt;dbl&gt; | HOURLYDRYBULBTEMPF &lt;dbl&gt; | HOURLYPrecip &lt;chr&gt; | HOURLYWindSpeed &lt;dbl&gt; | HOURLYStationPressure &lt;dbl&gt; |\n",
       "|---|---|---|---|---|\n",
       "| 46 | 83 | 0.00 | 13 | 29.99 |\n",
       "| 48 | 53 | 0.00 |  6 | 30.03 |\n",
       "| 89 | 36 | 0.00 | 13 | 30.12 |\n",
       "| 48 | 36 | 0.00 | 14 | 29.80 |\n",
       "| 61 | 39 | T    | 11 | 30.50 |\n",
       "\n"
      ],
      "text/plain": [
       "  HOURLYRelativeHumidity HOURLYDRYBULBTEMPF HOURLYPrecip HOURLYWindSpeed\n",
       "1 46                     83                 0.00         13             \n",
       "2 48                     53                 0.00          6             \n",
       "3 89                     36                 0.00         13             \n",
       "4 48                     36                 0.00         14             \n",
       "5 61                     39                 T            11             \n",
       "  HOURLYStationPressure\n",
       "1 29.99                \n",
       "2 30.03                \n",
       "3 30.12                \n",
       "4 29.80                \n",
       "5 30.50                "
      ]
     },
     "metadata": {},
     "output_type": "display_data"
    }
   ],
   "source": [
    "head(selected_file,5)"
   ]
  },
  {
   "cell_type": "markdown",
   "metadata": {},
   "source": [
    "<a id=\"cell4\"></a>\n",
    "## 4. Clean Up Columns\n",
    "\n",
    "From the dataframe preview above, we can see that the column `HOURLYPrecip` - which is the hourly measure of precipitation levels - contains both `NA` and `T` values. `T` specifies *trace amounts of precipitation* (meaning essentially no precipitation), while `NA` means *not available*, and is used to denote missing values. Additionally, some values also have \"s\" at the end of them, indicating that the precipitation was snow. \n",
    "\n",
    "Inspect the unique values present in the column `HOURLYPrecip` (with `unique(dataframe$column)`) to see these values.\n"
   ]
  },
  {
   "cell_type": "code",
   "execution_count": 143,
   "metadata": {},
   "outputs": [
    {
     "name": "stdout",
     "output_type": "stream",
     "text": [
      " [1] \"0.00\"  \"T\"     \"0.06\"  NA      \"0.03\"  \"0.02\"  \"0.08\"  \"0.01\"  \"0.07\" \n",
      "[10] \"0.16\"  \"0.09\"  \"0.22\"  \"0.02s\" \"0.24\"  \"0.18\"  \"0.05\"  \"0.04\"  \"0.09s\"\n",
      "[19] \"0.11\"  \"0.14\"  \"0.25\"  \"0.10\"  \"0.01s\" \"0.58\"  \"0.12\"  \"0.13\"  \"0.46\" \n",
      "[28] \"1.07\"  \"1.19\"  \"0.34\"  \"0.20\"  \"0.36s\" \"0.42\"  \"0.17\"  \"0.27\"  \"0.35\" \n",
      "[37] \"0.31\"  \"0.33\"  \"0.23\"  \"0.26\"  \"0.28\"  \"0.75\"  \"0.19\"  \"0.36\"  \"0.03s\"\n",
      "[46] \"0.07s\" \"0.54\"  \"0.59\"  \"0.21\" \n"
     ]
    }
   ],
   "source": [
    "unique_file <- unique(selected_file$HOURLYPrecip)\n",
    "print(unique_file)\n"
   ]
  },
  {
   "cell_type": "markdown",
   "metadata": {},
   "source": [
    "Having characters in values (like the \"T\" and \"s\" that you see in the unique values) will cause problems when you create a model because values for precipitation should be numerical. So you need to fix these values that have characters. \n",
    "\n",
    "Now, for the column `HOURLYPrecip`:\n",
    "1. Replace all the `T` values with \"0.0\" and \n",
    "2. Remove \"s\" from values like \"0.02s\". In R, you can use the method `str_remove(column, pattern = \"s$\")` to remove the character \"s\" from the end of values. The \"$\" tells R to match to the end of values. The `pattern` is a regex pattern. Look at [here](https://www.rdocumentation.org/packages/stringi/versions/1.5.3/topics/about_search_regex) for more information about regex and matching to strings in R.\n",
    "\n",
    "Remember that you can use `tidyverse`'s  `mutate()` to update columns.\n",
    "\n",
    "You can check your work by checking if unique values of `HOURLYPrecip` still contain any `T` or `s`. Store the modified dataframe as a new variable.\n"
   ]
  },
  {
   "cell_type": "code",
   "execution_count": 146,
   "metadata": {},
   "outputs": [
    {
     "name": "stdout",
     "output_type": "stream",
     "text": [
      " [1] \"0.00\" \"0.0\"  \"0.06\" NA     \"0.03\" \"0.02\" \"0.08\" \"0.01\" \"0.07\" \"0.16\"\n",
      "[11] \"0.09\" \"0.22\" \"0.24\" \"0.18\" \"0.05\" \"0.04\" \"0.11\" \"0.14\" \"0.25\" \"0.10\"\n",
      "[21] \"0.58\" \"0.12\" \"0.13\" \"0.46\" \"1.07\" \"1.19\" \"0.34\" \"0.20\" \"0.36\" \"0.42\"\n",
      "[31] \"0.17\" \"0.27\" \"0.35\" \"0.31\" \"0.33\" \"0.23\" \"0.26\" \"0.28\" \"0.75\" \"0.19\"\n",
      "[41] \"0.54\" \"0.59\" \"0.21\"\n"
     ]
    }
   ],
   "source": [
    "modified_file <- selected_file %>%\n",
    "  mutate(HOURLYPrecip = ifelse(HOURLYPrecip == \"T\", \"0.0\", HOURLYPrecip), # Replace \"T\" with \"0.0\"\n",
    "         HOURLYPrecip = str_remove(HOURLYPrecip, \"s$\")) # Remove \"s\" from values\n",
    "\n",
    "# Check the unique values to ensure the changes are made\n",
    "unique_file <- unique(modified_file$HOURLYPrecip)\n",
    "print(unique_file)"
   ]
  },
  {
   "cell_type": "markdown",
   "metadata": {},
   "source": [
    "<a id=\"cell5\"></a>\n",
    "## 5. Convert Columns to Numerical Types\n",
    "Now that you have removed the characters in the `HOURLYPrecip` column, you can safely covert the column to a numeric type.\n",
    "\n",
    "First, check the types of the columns. You will notice that all are `dbl` (double or numeric) except for `HOURLYPrecip`, which is `chr` (character or string). Use the `glimpse` function from Tidyverse.\n"
   ]
  },
  {
   "cell_type": "code",
   "execution_count": 149,
   "metadata": {},
   "outputs": [
    {
     "name": "stdout",
     "output_type": "stream",
     "text": [
      "Rows: 5,727\n",
      "Columns: 5\n",
      "$ HOURLYRelativeHumidity \u001b[3m\u001b[90m<dbl>\u001b[39m\u001b[23m 46, 48, 89, 48, 61, 79, 51, 65, 90, 94, 79, 37,~\n",
      "$ HOURLYDRYBULBTEMPF     \u001b[3m\u001b[90m<dbl>\u001b[39m\u001b[23m 83, 53, 36, 36, 39, 41, 19, 24, 54, 73, 83, 44,~\n",
      "$ HOURLYPrecip           \u001b[3m\u001b[90m<chr>\u001b[39m\u001b[23m \"0.00\", \"0.00\", \"0.00\", \"0.00\", \"0.0\", \"0.00\", ~\n",
      "$ HOURLYWindSpeed        \u001b[3m\u001b[90m<dbl>\u001b[39m\u001b[23m 13, 6, 13, 14, 11, 6, 0, 11, 11, 5, 21, 7, 17, ~\n",
      "$ HOURLYStationPressure  \u001b[3m\u001b[90m<dbl>\u001b[39m\u001b[23m 29.99, 30.03, 30.12, 29.80, 30.50, 29.92, 30.40~\n"
     ]
    }
   ],
   "source": [
    "glimpse(modified_file)"
   ]
  },
  {
   "cell_type": "markdown",
   "metadata": {},
   "source": [
    "Convert `HOURLYPrecip` to the `numeric` type and store the cleaned dataframe as a new variable.\n"
   ]
  },
  {
   "cell_type": "code",
   "execution_count": 151,
   "metadata": {},
   "outputs": [],
   "source": [
    "numeric_file <- modified_file %>%\n",
    "  mutate(HOURLYPrecip = as.numeric(HOURLYPrecip)) # Convert to numeric\n"
   ]
  },
  {
   "cell_type": "markdown",
   "metadata": {},
   "source": [
    "We can now see that all fields have numerical data type.\n"
   ]
  },
  {
   "cell_type": "code",
   "execution_count": 155,
   "metadata": {},
   "outputs": [
    {
     "name": "stdout",
     "output_type": "stream",
     "text": [
      "Rows: 5,727\n",
      "Columns: 5\n",
      "$ HOURLYRelativeHumidity \u001b[3m\u001b[90m<dbl>\u001b[39m\u001b[23m 46, 48, 89, 48, 61, 79, 51, 65, 90, 94, 79, 37,~\n",
      "$ HOURLYDRYBULBTEMPF     \u001b[3m\u001b[90m<dbl>\u001b[39m\u001b[23m 83, 53, 36, 36, 39, 41, 19, 24, 54, 73, 83, 44,~\n",
      "$ HOURLYPrecip           \u001b[3m\u001b[90m<dbl>\u001b[39m\u001b[23m 0.00, 0.00, 0.00, 0.00, 0.00, 0.00, 0.00, 0.00,~\n",
      "$ HOURLYWindSpeed        \u001b[3m\u001b[90m<dbl>\u001b[39m\u001b[23m 13, 6, 13, 14, 11, 6, 0, 11, 11, 5, 21, 7, 17, ~\n",
      "$ HOURLYStationPressure  \u001b[3m\u001b[90m<dbl>\u001b[39m\u001b[23m 29.99, 30.03, 30.12, 29.80, 30.50, 29.92, 30.40~\n"
     ]
    }
   ],
   "source": [
    "glimpse(numeric_file)"
   ]
  },
  {
   "cell_type": "markdown",
   "metadata": {},
   "source": [
    "<a id=\"cell6\"></a>\n",
    "## 6. Rename Columns\n",
    "Let's rename the following columns as:\n",
    "- 'HOURLYRelativeHumidity' to 'relative_humidity'\n",
    "- 'HOURLYDRYBULBTEMPF' to 'dry_bulb_temp_f'\n",
    "- 'HOURLYPrecip' to 'precip'\n",
    "- 'HOURLYWindSpeed' to 'wind_speed'\n",
    "- 'HOURLYStationPressure' to 'station_pressure'\n",
    "\n",
    "You can use `dplyr::rename()`. Then, store the final dataframe as a new variable.\n"
   ]
  },
  {
   "cell_type": "code",
   "execution_count": 159,
   "metadata": {},
   "outputs": [
    {
     "name": "stdout",
     "output_type": "stream",
     "text": [
      "Rows: 5,727\n",
      "Columns: 5\n",
      "$ relative_humidity \u001b[3m\u001b[90m<dbl>\u001b[39m\u001b[23m 46, 48, 89, 48, 61, 79, 51, 65, 90, 94, 79, 37, 72, ~\n",
      "$ dry_bulb_temp_f   \u001b[3m\u001b[90m<dbl>\u001b[39m\u001b[23m 83, 53, 36, 36, 39, 41, 19, 24, 54, 73, 83, 44, 57, ~\n",
      "$ precip            \u001b[3m\u001b[90m<dbl>\u001b[39m\u001b[23m 0.00, 0.00, 0.00, 0.00, 0.00, 0.00, 0.00, 0.00, 0.06~\n",
      "$ wind_speed        \u001b[3m\u001b[90m<dbl>\u001b[39m\u001b[23m 13, 6, 13, 14, 11, 6, 0, 11, 11, 5, 21, 7, 17, 8, 3,~\n",
      "$ station_pressure  \u001b[3m\u001b[90m<dbl>\u001b[39m\u001b[23m 29.99, 30.03, 30.12, 29.80, 30.50, 29.92, 30.40, 30.~\n"
     ]
    }
   ],
   "source": [
    "# Rename the columns\n",
    "renamed_file <- numeric_file %>%\n",
    "  rename(\n",
    "    relative_humidity = HOURLYRelativeHumidity,\n",
    "    dry_bulb_temp_f = HOURLYDRYBULBTEMPF,\n",
    "    precip = HOURLYPrecip,\n",
    "    wind_speed = HOURLYWindSpeed,\n",
    "    station_pressure = HOURLYStationPressure\n",
    "  )\n",
    "\n",
    "# Check the structure of the final dataframe\n",
    "glimpse(renamed_file)"
   ]
  },
  {
   "cell_type": "markdown",
   "metadata": {},
   "source": [
    "<a id=\"cell7\"></a>\n",
    "## 7. Exploratory Data Analysis\n",
    "Now that you have finished preprocessing the dataset, you can can start exploring the columns more.\n",
    "\n",
    "First, split the data into a training and testing set. Splitting a dataset is done randomly, so to have reproducible results set the seed = 1234. Also, use 80% of the data for training.\n"
   ]
  },
  {
   "cell_type": "code",
   "execution_count": 197,
   "metadata": {},
   "outputs": [
    {
     "data": {
      "text/plain": [
       " relative_humidity dry_bulb_temp_f     precip           wind_speed   \n",
       " Min.   : 13.00    Min.   : 5.00   Min.   :0.000000   Min.   : 0.00  \n",
       " 1st Qu.: 50.00    1st Qu.:42.00   1st Qu.:0.000000   1st Qu.: 7.00  \n",
       " Median : 67.00    Median :56.00   Median :0.000000   Median :10.00  \n",
       " Mean   : 65.93    Mean   :55.46   Mean   :0.006535   Mean   :11.25  \n",
       " 3rd Qu.: 83.00    3rd Qu.:70.00   3rd Qu.:0.000000   3rd Qu.:15.00  \n",
       " Max.   :100.00    Max.   :99.00   Max.   :1.190000   Max.   :52.00  \n",
       " station_pressure\n",
       " Min.   :28.69   \n",
       " 1st Qu.:29.85   \n",
       " Median :29.99   \n",
       " Mean   :30.00   \n",
       " 3rd Qu.:30.15   \n",
       " Max.   :30.81   "
      ]
     },
     "metadata": {},
     "output_type": "display_data"
    },
    {
     "data": {
      "text/html": [
       "<style>\n",
       ".list-inline {list-style: none; margin:0; padding: 0}\n",
       ".list-inline>li {display: inline-block}\n",
       ".list-inline>li:not(:last-child)::after {content: \"\\00b7\"; padding: 0 .5ex}\n",
       "</style>\n",
       "<ol class=list-inline><li>3250</li><li>5</li></ol>\n"
      ],
      "text/latex": [
       "\\begin{enumerate*}\n",
       "\\item 3250\n",
       "\\item 5\n",
       "\\end{enumerate*}\n"
      ],
      "text/markdown": [
       "1. 3250\n",
       "2. 5\n",
       "\n",
       "\n"
      ],
      "text/plain": [
       "[1] 3250    5"
      ]
     },
     "metadata": {},
     "output_type": "display_data"
    },
    {
     "data": {
      "text/html": [
       "<style>\n",
       ".list-inline {list-style: none; margin:0; padding: 0}\n",
       ".list-inline>li {display: inline-block}\n",
       ".list-inline>li:not(:last-child)::after {content: \"\\00b7\"; padding: 0 .5ex}\n",
       "</style>\n",
       "<ol class=list-inline><li>813</li><li>5</li></ol>\n"
      ],
      "text/latex": [
       "\\begin{enumerate*}\n",
       "\\item 813\n",
       "\\item 5\n",
       "\\end{enumerate*}\n"
      ],
      "text/markdown": [
       "1. 813\n",
       "2. 5\n",
       "\n",
       "\n"
      ],
      "text/plain": [
       "[1] 813   5"
      ]
     },
     "metadata": {},
     "output_type": "display_data"
    }
   ],
   "source": [
    "# Remove missing values from final_data\n",
    "final_data_clean <- na.omit(renamed_file)\n",
    "\n",
    "# Verify that there are no missing values\n",
    "summary(final_data_clean)\n",
    "\n",
    "readyuse_file = final_data_clean\n",
    "\n",
    "\n",
    "# Load the necessary libraries\n",
    "library(dplyr)\n",
    "library(rsample)\n",
    "\n",
    "# Set the seed for reproducibility\n",
    "set.seed(1234)\n",
    "\n",
    "# Split the data into training (80%) and testing (20%) sets\n",
    "split <- initial_split(readyuse_file, prop = 0.80)\n",
    "training_data <- training(split)\n",
    "testing_data <- testing(split)\n",
    "\n",
    "# Check the dimensions of the training and testing sets\n",
    "dim(training_data)\n",
    "dim(testing_data)"
   ]
  },
  {
   "cell_type": "markdown",
   "metadata": {},
   "source": [
    "Next, looking at just the **training set**, plot histograms or box plots of the variables (`relative_humidity`, `dry_bulb_temp_f`, `precip`, `wind_speed`,  `station_pressure`) for an intial look of their distributions using `tidyverse`'s `ggplot`. Leave the testing set as is because it is good practice to not see the testing set until evaluating the final model.\n"
   ]
  },
  {
   "cell_type": "code",
   "execution_count": 200,
   "metadata": {},
   "outputs": [
    {
     "data": {
      "image/png": "[encoded data removed]",
      "text/plain": [
       "plot without title"
      ]
     },
     "metadata": {
      "image/png": {
       "height": 420,
       "width": 420
      }
     },
     "output_type": "display_data"
    },
    {
     "data": {
      "image/png": "[encoded data removed]",
      "text/plain": [
       "plot without title"
      ]
     },
     "metadata": {
      "image/png": {
       "height": 420,
       "width": 420
      }
     },
     "output_type": "display_data"
    },
    {
     "data": {
      "image/png": "[encoded data removed]",
      "text/plain": [
       "plot without title"
      ]
     },
     "metadata": {
      "image/png": {
       "height": 420,
       "width": 420
      }
     },
     "output_type": "display_data"
    },
    {
     "data": {
      "image/png": "[encoded data removed]",
      "text/plain": [
       "plot without title"
      ]
     },
     "metadata": {
      "image/png": {
       "height": 420,
       "width": 420
      }
     },
     "output_type": "display_data"
    },
    {
     "data": {
      "image/png": "[encoded data removed]",
      "text/plain": [
       "plot without title"
      ]
     },
     "metadata": {
      "image/png": {
       "height": 420,
       "width": 420
      }
     },
     "output_type": "display_data"
    }
   ],
   "source": [
    "\n",
    "library(ggplot2)\n",
    "\n",
    "# Plot histograms for each variable in the training set\n",
    "ggplot(training_data, aes(x = relative_humidity)) +\n",
    "  geom_histogram(binwidth = 5, fill = \"blue\", color = \"black\") +\n",
    "  labs(title = \"Histogram of Relative Humidity\", x = \"Relative Humidity\", y = \"Frequency\")\n",
    "\n",
    "ggplot(training_data, aes(x = dry_bulb_temp_f)) +\n",
    "  geom_histogram(binwidth = 2, fill = \"blue\", color = \"black\") +\n",
    "  labs(title = \"Histogram of Dry Bulb Temperature (F)\", x = \"Dry Bulb Temperature (F)\", y = \"Frequency\")\n",
    "\n",
    "ggplot(training_data, aes(x = precip)) +\n",
    "  geom_histogram(binwidth = 0.05, fill = \"blue\", color = \"black\") +\n",
    "  labs(title = \"Histogram of Precipitation\", x = \"Precipitation (inches)\", y = \"Frequency\")\n",
    "\n",
    "ggplot(training_data, aes(x = wind_speed)) +\n",
    "  geom_histogram(binwidth = 1, fill = \"blue\", color = \"black\") +\n",
    "  labs(title = \"Histogram of Wind Speed (mph)\", x = \"Wind Speed (mph)\", y = \"Frequency\")\n",
    "\n",
    "ggplot(training_data, aes(x = station_pressure)) +\n",
    "  geom_histogram(binwidth = 0.05, fill = \"blue\", color = \"black\") +\n",
    "  labs(title = \"Histogram of Station Pressure (in Hg)\", x = \"Station Pressure (in Hg)\", y = \"Frequency\")"
   ]
  },
  {
   "cell_type": "markdown",
   "metadata": {},
   "source": [
    "<a id=\"cell8\"></a>\n",
    "## 8. Linear Regression \n",
    "After exploring the dataset more, you are now ready to start creating models to predict the precipitation (`precip`).\n",
    "\n",
    "Create simple linear regression models where `precip` is the response variable and each of `relative_humidity`, `dry_bulb_temp_f`,`wind_speed` or `station_pressure` will be a predictor variable, e.g. `precip ~ relative_humidity`, `precip ~ dry_bulb_temp_f`, etc. for a total of four simple models. \n",
    "Additionally, visualize each simple model with a scatter plot.\n"
   ]
  },
  {
   "cell_type": "code",
   "execution_count": 203,
   "metadata": {},
   "outputs": [
    {
     "name": "stderr",
     "output_type": "stream",
     "text": [
      "\u001b[1m\u001b[22m`geom_smooth()` using formula = 'y ~ x'\n"
     ]
    },
    {
     "data": {
      "image/png": "[encoded data removed]",
      "text/plain": [
       "plot without title"
      ]
     },
     "metadata": {
      "image/png": {
       "height": 420,
       "width": 420
      }
     },
     "output_type": "display_data"
    }
   ],
   "source": [
    "# Load necessary library\n",
    "library(ggplot2)\n",
    "\n",
    "# Fit the simple linear regression models\n",
    "model_humidity <- lm(precip ~ relative_humidity, data = training_data)\n",
    "\n",
    "# Plotting model: precip ~ relative_humidity\n",
    "plot_humidity <- ggplot(training_data, aes(x = relative_humidity, y = precip)) +\n",
    "  geom_point(color = \"blue\") +\n",
    "  geom_smooth(method = \"lm\", col = \"red\") +\n",
    "  labs(title = \"Precipitation vs. Relative Humidity\", x = \"Relative Humidity\", y = \"Precipitation\")\n",
    "\n",
    "print(plot_humidity)\n",
    "\n"
   ]
  },
  {
   "cell_type": "code",
   "execution_count": 205,
   "metadata": {},
   "outputs": [
    {
     "name": "stderr",
     "output_type": "stream",
     "text": [
      "\u001b[1m\u001b[22m`geom_smooth()` using formula = 'y ~ x'\n"
     ]
    },
    {
     "data": {
      "image/png": "[encoded data removed]",
      "text/plain": [
       "plot without title"
      ]
     },
     "metadata": {
      "image/png": {
       "height": 420,
       "width": 420
      }
     },
     "output_type": "display_data"
    }
   ],
   "source": [
    "model_temp <- lm(precip ~ dry_bulb_temp_f, data = training_data)\n",
    "\n",
    "\n",
    "plot_temp <- ggplot(training_data, aes(x = dry_bulb_temp_f, y = precip)) +\n",
    "  geom_point(color = \"blue\") +\n",
    "  geom_smooth(method = \"lm\", col = \"red\") +\n",
    "  labs(title = \"Precipitation vs. Dry Bulb Temperature (F)\", x = \"Dry Bulb Temperature (F)\", y = \"Precipitation\")\n",
    "\n",
    "print(plot_temp)\n"
   ]
  },
  {
   "cell_type": "code",
   "execution_count": 207,
   "metadata": {},
   "outputs": [
    {
     "name": "stderr",
     "output_type": "stream",
     "text": [
      "\u001b[1m\u001b[22m`geom_smooth()` using formula = 'y ~ x'\n"
     ]
    },
    {
     "data": {
      "image/png": "[encoded data removed]",
      "text/plain": [
       "plot without title"
      ]
     },
     "metadata": {
      "image/png": {
       "height": 420,
       "width": 420
      }
     },
     "output_type": "display_data"
    }
   ],
   "source": [
    "model_wind <- lm(precip ~ wind_speed, data = training_data)\n",
    "\n",
    "plot_wind <- ggplot(training_data, aes(x = wind_speed, y = precip)) +\n",
    "  geom_point(color = \"blue\") +\n",
    "  geom_smooth(method = \"lm\", col = \"red\") +\n",
    "  labs(title = \"Precipitation vs. Wind Speed\", x = \"Wind Speed (mph)\", y = \"Precipitation\")\n",
    "\n",
    "print(plot_wind)"
   ]
  },
  {
   "cell_type": "code",
   "execution_count": 209,
   "metadata": {},
   "outputs": [
    {
     "name": "stderr",
     "output_type": "stream",
     "text": [
      "\u001b[1m\u001b[22m`geom_smooth()` using formula = 'y ~ x'\n"
     ]
    },
    {
     "data": {
      "image/png": "[encoded data removed]",
      "text/plain": [
       "plot without title"
      ]
     },
     "metadata": {
      "image/png": {
       "height": 420,
       "width": 420
      }
     },
     "output_type": "display_data"
    }
   ],
   "source": [
    "model_pressure <- lm(precip ~ station_pressure, data = training_data)\n",
    "\n",
    "plot_pressure <- ggplot(training_data, aes(x = station_pressure, y = precip)) +\n",
    "  geom_point(color = \"blue\") +\n",
    "  geom_smooth(method = \"lm\", col = \"red\") +\n",
    "  labs(title = \"Precipitation vs. Station Pressure\", x = \"Station Pressure (in Hg)\", y = \"Precipitation\")\n",
    "\n",
    "print(plot_pressure)"
   ]
  },
  {
   "cell_type": "markdown",
   "metadata": {},
   "source": [
    "<a id=\"cell9\"></a>\n",
    "## 9. Improve the Model\n",
    "Now, try improving the simple models you created in the previous section. \n",
    "\n",
    "Create at least two more models, each model should use at least one of the different techniques:\n",
    "1. Add more features/predictors\n",
    "2. Add regularization (L1, L2 or a mix)\n",
    "3. Add a polynomial component\n",
    "\n",
    "Also, for each of the models you create, check the model performance using the **training set** and a metric like MSE, RMSE, or R-squared.\n",
    "\n",
    "Consider using `tidymodels` if you choose to add regularization and tune lambda.\n"
   ]
  },
  {
   "cell_type": "code",
   "execution_count": 212,
   "metadata": {},
   "outputs": [],
   "source": [
    "# Model 1: Multiple Linear Regression model\n",
    "model_multiple <- lm(precip ~ relative_humidity + dry_bulb_temp_f + wind_speed + station_pressure, data = training_data)"
   ]
  },
  {
   "cell_type": "code",
   "execution_count": 214,
   "metadata": {},
   "outputs": [],
   "source": [
    "# Model 2: Polynomial Regression model\n",
    "model_poly <- lm(precip ~ poly(dry_bulb_temp_f, 2) + relative_humidity + wind_speed + station_pressure, data = training_data)"
   ]
  },
  {
   "cell_type": "code",
   "execution_count": 216,
   "metadata": {},
   "outputs": [
    {
     "data": {
      "text/html": [
       "<table class=\"dataframe\">\n",
       "<caption>A tibble: 1 × 12</caption>\n",
       "<thead>\n",
       "\t<tr><th scope=col>r.squared</th><th scope=col>adj.r.squared</th><th scope=col>sigma</th><th scope=col>statistic</th><th scope=col>p.value</th><th scope=col>df</th><th scope=col>logLik</th><th scope=col>AIC</th><th scope=col>BIC</th><th scope=col>deviance</th><th scope=col>df.residual</th><th scope=col>nobs</th></tr>\n",
       "\t<tr><th scope=col>&lt;dbl&gt;</th><th scope=col>&lt;dbl&gt;</th><th scope=col>&lt;dbl&gt;</th><th scope=col>&lt;dbl&gt;</th><th scope=col>&lt;dbl&gt;</th><th scope=col>&lt;dbl&gt;</th><th scope=col>&lt;dbl&gt;</th><th scope=col>&lt;dbl&gt;</th><th scope=col>&lt;dbl&gt;</th><th scope=col>&lt;dbl&gt;</th><th scope=col>&lt;int&gt;</th><th scope=col>&lt;int&gt;</th></tr>\n",
       "</thead>\n",
       "<tbody>\n",
       "\t<tr><td>0.05584677</td><td>0.05468295</td><td>0.04402815</td><td>47.98553</td><td>2.940195e-39</td><td>4</td><td>5540.461</td><td>-11068.92</td><td>-11032.4</td><td>6.290362</td><td>3245</td><td>3250</td></tr>\n",
       "</tbody>\n",
       "</table>\n"
      ],
      "text/latex": [
       "A tibble: 1 × 12\n",
       "\\begin{tabular}{llllllllllll}\n",
       " r.squared & adj.r.squared & sigma & statistic & p.value & df & logLik & AIC & BIC & deviance & df.residual & nobs\\\\\n",
       " <dbl> & <dbl> & <dbl> & <dbl> & <dbl> & <dbl> & <dbl> & <dbl> & <dbl> & <dbl> & <int> & <int>\\\\\n",
       "\\hline\n",
       "\t 0.05584677 & 0.05468295 & 0.04402815 & 47.98553 & 2.940195e-39 & 4 & 5540.461 & -11068.92 & -11032.4 & 6.290362 & 3245 & 3250\\\\\n",
       "\\end{tabular}\n"
      ],
      "text/markdown": [
       "\n",
       "A tibble: 1 × 12\n",
       "\n",
       "| r.squared &lt;dbl&gt; | adj.r.squared &lt;dbl&gt; | sigma &lt;dbl&gt; | statistic &lt;dbl&gt; | p.value &lt;dbl&gt; | df &lt;dbl&gt; | logLik &lt;dbl&gt; | AIC &lt;dbl&gt; | BIC &lt;dbl&gt; | deviance &lt;dbl&gt; | df.residual &lt;int&gt; | nobs &lt;int&gt; |\n",
       "|---|---|---|---|---|---|---|---|---|---|---|---|\n",
       "| 0.05584677 | 0.05468295 | 0.04402815 | 47.98553 | 2.940195e-39 | 4 | 5540.461 | -11068.92 | -11032.4 | 6.290362 | 3245 | 3250 |\n",
       "\n"
      ],
      "text/plain": [
       "  r.squared  adj.r.squared sigma      statistic p.value      df logLik  \n",
       "1 0.05584677 0.05468295    0.04402815 47.98553  2.940195e-39 4  5540.461\n",
       "  AIC       BIC      deviance df.residual nobs\n",
       "1 -11068.92 -11032.4 6.290362 3245        3250"
      ]
     },
     "metadata": {},
     "output_type": "display_data"
    },
    {
     "data": {
      "text/html": [
       "<table class=\"dataframe\">\n",
       "<caption>A tibble: 1 × 12</caption>\n",
       "<thead>\n",
       "\t<tr><th scope=col>r.squared</th><th scope=col>adj.r.squared</th><th scope=col>sigma</th><th scope=col>statistic</th><th scope=col>p.value</th><th scope=col>df</th><th scope=col>logLik</th><th scope=col>AIC</th><th scope=col>BIC</th><th scope=col>deviance</th><th scope=col>df.residual</th><th scope=col>nobs</th></tr>\n",
       "\t<tr><th scope=col>&lt;dbl&gt;</th><th scope=col>&lt;dbl&gt;</th><th scope=col>&lt;dbl&gt;</th><th scope=col>&lt;dbl&gt;</th><th scope=col>&lt;dbl&gt;</th><th scope=col>&lt;dbl&gt;</th><th scope=col>&lt;dbl&gt;</th><th scope=col>&lt;dbl&gt;</th><th scope=col>&lt;dbl&gt;</th><th scope=col>&lt;dbl&gt;</th><th scope=col>&lt;int&gt;</th><th scope=col>&lt;int&gt;</th></tr>\n",
       "</thead>\n",
       "<tbody>\n",
       "\t<tr><td>0.05584684</td><td>0.05439161</td><td>0.04403494</td><td>38.37664</td><td>2.178034e-38</td><td>5</td><td>5540.461</td><td>-11066.92</td><td>-11024.32</td><td>6.290362</td><td>3244</td><td>3250</td></tr>\n",
       "</tbody>\n",
       "</table>\n"
      ],
      "text/latex": [
       "A tibble: 1 × 12\n",
       "\\begin{tabular}{llllllllllll}\n",
       " r.squared & adj.r.squared & sigma & statistic & p.value & df & logLik & AIC & BIC & deviance & df.residual & nobs\\\\\n",
       " <dbl> & <dbl> & <dbl> & <dbl> & <dbl> & <dbl> & <dbl> & <dbl> & <dbl> & <dbl> & <int> & <int>\\\\\n",
       "\\hline\n",
       "\t 0.05584684 & 0.05439161 & 0.04403494 & 38.37664 & 2.178034e-38 & 5 & 5540.461 & -11066.92 & -11024.32 & 6.290362 & 3244 & 3250\\\\\n",
       "\\end{tabular}\n"
      ],
      "text/markdown": [
       "\n",
       "A tibble: 1 × 12\n",
       "\n",
       "| r.squared &lt;dbl&gt; | adj.r.squared &lt;dbl&gt; | sigma &lt;dbl&gt; | statistic &lt;dbl&gt; | p.value &lt;dbl&gt; | df &lt;dbl&gt; | logLik &lt;dbl&gt; | AIC &lt;dbl&gt; | BIC &lt;dbl&gt; | deviance &lt;dbl&gt; | df.residual &lt;int&gt; | nobs &lt;int&gt; |\n",
       "|---|---|---|---|---|---|---|---|---|---|---|---|\n",
       "| 0.05584684 | 0.05439161 | 0.04403494 | 38.37664 | 2.178034e-38 | 5 | 5540.461 | -11066.92 | -11024.32 | 6.290362 | 3244 | 3250 |\n",
       "\n"
      ],
      "text/plain": [
       "  r.squared  adj.r.squared sigma      statistic p.value      df logLik  \n",
       "1 0.05584684 0.05439161    0.04403494 38.37664  2.178034e-38 5  5540.461\n",
       "  AIC       BIC       deviance df.residual nobs\n",
       "1 -11066.92 -11024.32 6.290362 3244        3250"
      ]
     },
     "metadata": {},
     "output_type": "display_data"
    }
   ],
   "source": [
    "#check the models performance\n",
    "\n",
    "library(broom)\n",
    "library(yardstick)\n",
    "\n",
    "# Evaluate Model 1: Multiple Linear Regression\n",
    "multiple_summary <- summary(model_multiple)\n",
    "multiple_glance <- glance(model_multiple)\n",
    "\n",
    "# Evaluate Model 2: Polynomial Regression\n",
    "poly_summary <- summary(model_poly)\n",
    "poly_glance <- glance(model_poly)\n",
    "\n",
    "# Print model performance metrics\n",
    "multiple_glance\n",
    "poly_glance"
   ]
  },
  {
   "cell_type": "code",
   "execution_count": 235,
   "metadata": {},
   "outputs": [
    {
     "name": "stderr",
     "output_type": "stream",
     "text": [
      "> \u001b[33m\u001b[1mA\u001b[22m\u001b[39m | \u001b[33mwarning\u001b[39m: \u001b[1m\u001b[22mA correlation computation is required, but `estimate` is constant and has 0 standard deviation, resulting in a divide\n",
      "               by 0 error. `NA` will be returned.\n",
      "\n",
      "There were issues with some computations   \u001b[1m\u001b[33mA\u001b[39m\u001b[22m: x1\n",
      "There were issues with some computations   \u001b[1m\u001b[33mA\u001b[39m\u001b[22m: x2\n",
      "There were issues with some computations   \u001b[1m\u001b[33mA\u001b[39m\u001b[22m: x3\n",
      "There were issues with some computations   \u001b[1m\u001b[33mA\u001b[39m\u001b[22m: x5\n",
      "There were issues with some computations   \u001b[1m\u001b[33mA\u001b[39m\u001b[22m: x5\n",
      "\n",
      "\n",
      "> \u001b[33m\u001b[1mA\u001b[22m\u001b[39m | \u001b[33mwarning\u001b[39m: \u001b[1m\u001b[22mA correlation computation is required, but `estimate` is constant and has 0 standard deviation, resulting in a divide\n",
      "               by 0 error. `NA` will be returned.\n",
      "\n",
      "There were issues with some computations   \u001b[1m\u001b[33mA\u001b[39m\u001b[22m: x1\n",
      "There were issues with some computations   \u001b[1m\u001b[33mA\u001b[39m\u001b[22m: x3\n",
      "There were issues with some computations   \u001b[1m\u001b[33mA\u001b[39m\u001b[22m: x4\n",
      "There were issues with some computations   \u001b[1m\u001b[33mA\u001b[39m\u001b[22m: x5\n",
      "\n",
      "\n"
     ]
    },
    {
     "data": {
      "text/html": [
       "<table class=\"dataframe\">\n",
       "<caption>A tibble: 20 × 7</caption>\n",
       "<thead>\n",
       "\t<tr><th scope=col>penalty</th><th scope=col>.metric</th><th scope=col>.estimator</th><th scope=col>mean</th><th scope=col>n</th><th scope=col>std_err</th><th scope=col>.config</th></tr>\n",
       "\t<tr><th scope=col>&lt;dbl&gt;</th><th scope=col>&lt;chr&gt;</th><th scope=col>&lt;chr&gt;</th><th scope=col>&lt;dbl&gt;</th><th scope=col>&lt;int&gt;</th><th scope=col>&lt;dbl&gt;</th><th scope=col>&lt;chr&gt;</th></tr>\n",
       "</thead>\n",
       "<tbody>\n",
       "\t<tr><td>1.000000e-04</td><td>rmse</td><td>standard</td><td>0.04013341</td><td>5</td><td>0.002872782</td><td>Preprocessor1_Model01</td></tr>\n",
       "\t<tr><td>1.000000e-04</td><td>rsq </td><td>standard</td><td>0.05786617</td><td>5</td><td>0.004275204</td><td>Preprocessor1_Model01</td></tr>\n",
       "\t<tr><td>3.593814e-04</td><td>rmse</td><td>standard</td><td>0.04013498</td><td>5</td><td>0.002880584</td><td>Preprocessor1_Model02</td></tr>\n",
       "\t<tr><td>3.593814e-04</td><td>rsq </td><td>standard</td><td>0.05785211</td><td>5</td><td>0.004351777</td><td>Preprocessor1_Model02</td></tr>\n",
       "\t<tr><td>1.291550e-03</td><td>rmse</td><td>standard</td><td>0.04017983</td><td>5</td><td>0.002905810</td><td>Preprocessor1_Model03</td></tr>\n",
       "\t<tr><td>1.291550e-03</td><td>rsq </td><td>standard</td><td>0.05743620</td><td>5</td><td>0.004698566</td><td>Preprocessor1_Model03</td></tr>\n",
       "\t<tr><td>4.641589e-03</td><td>rmse</td><td>standard</td><td>0.04074251</td><td>5</td><td>0.002937815</td><td>Preprocessor1_Model04</td></tr>\n",
       "\t<tr><td>4.641589e-03</td><td>rsq </td><td>standard</td><td>0.04189186</td><td>5</td><td>0.005687663</td><td>Preprocessor1_Model04</td></tr>\n",
       "\t<tr><td>1.668101e-02</td><td>rmse</td><td>standard</td><td>0.04129488</td><td>5</td><td>0.002907641</td><td>Preprocessor1_Model05</td></tr>\n",
       "\t<tr><td>1.668101e-02</td><td>rsq </td><td>standard</td><td>       NaN</td><td>0</td><td>         NA</td><td>Preprocessor1_Model05</td></tr>\n",
       "\t<tr><td>5.994843e-02</td><td>rmse</td><td>standard</td><td>0.04129488</td><td>5</td><td>0.002907641</td><td>Preprocessor1_Model06</td></tr>\n",
       "\t<tr><td>5.994843e-02</td><td>rsq </td><td>standard</td><td>       NaN</td><td>0</td><td>         NA</td><td>Preprocessor1_Model06</td></tr>\n",
       "\t<tr><td>2.154435e-01</td><td>rmse</td><td>standard</td><td>0.04129488</td><td>5</td><td>0.002907641</td><td>Preprocessor1_Model07</td></tr>\n",
       "\t<tr><td>2.154435e-01</td><td>rsq </td><td>standard</td><td>       NaN</td><td>0</td><td>         NA</td><td>Preprocessor1_Model07</td></tr>\n",
       "\t<tr><td>7.742637e-01</td><td>rmse</td><td>standard</td><td>0.04129488</td><td>5</td><td>0.002907641</td><td>Preprocessor1_Model08</td></tr>\n",
       "\t<tr><td>7.742637e-01</td><td>rsq </td><td>standard</td><td>       NaN</td><td>0</td><td>         NA</td><td>Preprocessor1_Model08</td></tr>\n",
       "\t<tr><td>2.782559e+00</td><td>rmse</td><td>standard</td><td>0.04129488</td><td>5</td><td>0.002907641</td><td>Preprocessor1_Model09</td></tr>\n",
       "\t<tr><td>2.782559e+00</td><td>rsq </td><td>standard</td><td>       NaN</td><td>0</td><td>         NA</td><td>Preprocessor1_Model09</td></tr>\n",
       "\t<tr><td>1.000000e+01</td><td>rmse</td><td>standard</td><td>0.04129488</td><td>5</td><td>0.002907641</td><td>Preprocessor1_Model10</td></tr>\n",
       "\t<tr><td>1.000000e+01</td><td>rsq </td><td>standard</td><td>       NaN</td><td>0</td><td>         NA</td><td>Preprocessor1_Model10</td></tr>\n",
       "</tbody>\n",
       "</table>\n"
      ],
      "text/latex": [
       "A tibble: 20 × 7\n",
       "\\begin{tabular}{lllllll}\n",
       " penalty & .metric & .estimator & mean & n & std\\_err & .config\\\\\n",
       " <dbl> & <chr> & <chr> & <dbl> & <int> & <dbl> & <chr>\\\\\n",
       "\\hline\n",
       "\t 1.000000e-04 & rmse & standard & 0.04013341 & 5 & 0.002872782 & Preprocessor1\\_Model01\\\\\n",
       "\t 1.000000e-04 & rsq  & standard & 0.05786617 & 5 & 0.004275204 & Preprocessor1\\_Model01\\\\\n",
       "\t 3.593814e-04 & rmse & standard & 0.04013498 & 5 & 0.002880584 & Preprocessor1\\_Model02\\\\\n",
       "\t 3.593814e-04 & rsq  & standard & 0.05785211 & 5 & 0.004351777 & Preprocessor1\\_Model02\\\\\n",
       "\t 1.291550e-03 & rmse & standard & 0.04017983 & 5 & 0.002905810 & Preprocessor1\\_Model03\\\\\n",
       "\t 1.291550e-03 & rsq  & standard & 0.05743620 & 5 & 0.004698566 & Preprocessor1\\_Model03\\\\\n",
       "\t 4.641589e-03 & rmse & standard & 0.04074251 & 5 & 0.002937815 & Preprocessor1\\_Model04\\\\\n",
       "\t 4.641589e-03 & rsq  & standard & 0.04189186 & 5 & 0.005687663 & Preprocessor1\\_Model04\\\\\n",
       "\t 1.668101e-02 & rmse & standard & 0.04129488 & 5 & 0.002907641 & Preprocessor1\\_Model05\\\\\n",
       "\t 1.668101e-02 & rsq  & standard &        NaN & 0 &          NA & Preprocessor1\\_Model05\\\\\n",
       "\t 5.994843e-02 & rmse & standard & 0.04129488 & 5 & 0.002907641 & Preprocessor1\\_Model06\\\\\n",
       "\t 5.994843e-02 & rsq  & standard &        NaN & 0 &          NA & Preprocessor1\\_Model06\\\\\n",
       "\t 2.154435e-01 & rmse & standard & 0.04129488 & 5 & 0.002907641 & Preprocessor1\\_Model07\\\\\n",
       "\t 2.154435e-01 & rsq  & standard &        NaN & 0 &          NA & Preprocessor1\\_Model07\\\\\n",
       "\t 7.742637e-01 & rmse & standard & 0.04129488 & 5 & 0.002907641 & Preprocessor1\\_Model08\\\\\n",
       "\t 7.742637e-01 & rsq  & standard &        NaN & 0 &          NA & Preprocessor1\\_Model08\\\\\n",
       "\t 2.782559e+00 & rmse & standard & 0.04129488 & 5 & 0.002907641 & Preprocessor1\\_Model09\\\\\n",
       "\t 2.782559e+00 & rsq  & standard &        NaN & 0 &          NA & Preprocessor1\\_Model09\\\\\n",
       "\t 1.000000e+01 & rmse & standard & 0.04129488 & 5 & 0.002907641 & Preprocessor1\\_Model10\\\\\n",
       "\t 1.000000e+01 & rsq  & standard &        NaN & 0 &          NA & Preprocessor1\\_Model10\\\\\n",
       "\\end{tabular}\n"
      ],
      "text/markdown": [
       "\n",
       "A tibble: 20 × 7\n",
       "\n",
       "| penalty &lt;dbl&gt; | .metric &lt;chr&gt; | .estimator &lt;chr&gt; | mean &lt;dbl&gt; | n &lt;int&gt; | std_err &lt;dbl&gt; | .config &lt;chr&gt; |\n",
       "|---|---|---|---|---|---|---|\n",
       "| 1.000000e-04 | rmse | standard | 0.04013341 | 5 | 0.002872782 | Preprocessor1_Model01 |\n",
       "| 1.000000e-04 | rsq  | standard | 0.05786617 | 5 | 0.004275204 | Preprocessor1_Model01 |\n",
       "| 3.593814e-04 | rmse | standard | 0.04013498 | 5 | 0.002880584 | Preprocessor1_Model02 |\n",
       "| 3.593814e-04 | rsq  | standard | 0.05785211 | 5 | 0.004351777 | Preprocessor1_Model02 |\n",
       "| 1.291550e-03 | rmse | standard | 0.04017983 | 5 | 0.002905810 | Preprocessor1_Model03 |\n",
       "| 1.291550e-03 | rsq  | standard | 0.05743620 | 5 | 0.004698566 | Preprocessor1_Model03 |\n",
       "| 4.641589e-03 | rmse | standard | 0.04074251 | 5 | 0.002937815 | Preprocessor1_Model04 |\n",
       "| 4.641589e-03 | rsq  | standard | 0.04189186 | 5 | 0.005687663 | Preprocessor1_Model04 |\n",
       "| 1.668101e-02 | rmse | standard | 0.04129488 | 5 | 0.002907641 | Preprocessor1_Model05 |\n",
       "| 1.668101e-02 | rsq  | standard |        NaN | 0 |          NA | Preprocessor1_Model05 |\n",
       "| 5.994843e-02 | rmse | standard | 0.04129488 | 5 | 0.002907641 | Preprocessor1_Model06 |\n",
       "| 5.994843e-02 | rsq  | standard |        NaN | 0 |          NA | Preprocessor1_Model06 |\n",
       "| 2.154435e-01 | rmse | standard | 0.04129488 | 5 | 0.002907641 | Preprocessor1_Model07 |\n",
       "| 2.154435e-01 | rsq  | standard |        NaN | 0 |          NA | Preprocessor1_Model07 |\n",
       "| 7.742637e-01 | rmse | standard | 0.04129488 | 5 | 0.002907641 | Preprocessor1_Model08 |\n",
       "| 7.742637e-01 | rsq  | standard |        NaN | 0 |          NA | Preprocessor1_Model08 |\n",
       "| 2.782559e+00 | rmse | standard | 0.04129488 | 5 | 0.002907641 | Preprocessor1_Model09 |\n",
       "| 2.782559e+00 | rsq  | standard |        NaN | 0 |          NA | Preprocessor1_Model09 |\n",
       "| 1.000000e+01 | rmse | standard | 0.04129488 | 5 | 0.002907641 | Preprocessor1_Model10 |\n",
       "| 1.000000e+01 | rsq  | standard |        NaN | 0 |          NA | Preprocessor1_Model10 |\n",
       "\n"
      ],
      "text/plain": [
       "   penalty      .metric .estimator mean       n std_err    \n",
       "1  1.000000e-04 rmse    standard   0.04013341 5 0.002872782\n",
       "2  1.000000e-04 rsq     standard   0.05786617 5 0.004275204\n",
       "3  3.593814e-04 rmse    standard   0.04013498 5 0.002880584\n",
       "4  3.593814e-04 rsq     standard   0.05785211 5 0.004351777\n",
       "5  1.291550e-03 rmse    standard   0.04017983 5 0.002905810\n",
       "6  1.291550e-03 rsq     standard   0.05743620 5 0.004698566\n",
       "7  4.641589e-03 rmse    standard   0.04074251 5 0.002937815\n",
       "8  4.641589e-03 rsq     standard   0.04189186 5 0.005687663\n",
       "9  1.668101e-02 rmse    standard   0.04129488 5 0.002907641\n",
       "10 1.668101e-02 rsq     standard          NaN 0          NA\n",
       "11 5.994843e-02 rmse    standard   0.04129488 5 0.002907641\n",
       "12 5.994843e-02 rsq     standard          NaN 0          NA\n",
       "13 2.154435e-01 rmse    standard   0.04129488 5 0.002907641\n",
       "14 2.154435e-01 rsq     standard          NaN 0          NA\n",
       "15 7.742637e-01 rmse    standard   0.04129488 5 0.002907641\n",
       "16 7.742637e-01 rsq     standard          NaN 0          NA\n",
       "17 2.782559e+00 rmse    standard   0.04129488 5 0.002907641\n",
       "18 2.782559e+00 rsq     standard          NaN 0          NA\n",
       "19 1.000000e+01 rmse    standard   0.04129488 5 0.002907641\n",
       "20 1.000000e+01 rsq     standard          NaN 0          NA\n",
       "   .config              \n",
       "1  Preprocessor1_Model01\n",
       "2  Preprocessor1_Model01\n",
       "3  Preprocessor1_Model02\n",
       "4  Preprocessor1_Model02\n",
       "5  Preprocessor1_Model03\n",
       "6  Preprocessor1_Model03\n",
       "7  Preprocessor1_Model04\n",
       "8  Preprocessor1_Model04\n",
       "9  Preprocessor1_Model05\n",
       "10 Preprocessor1_Model05\n",
       "11 Preprocessor1_Model06\n",
       "12 Preprocessor1_Model06\n",
       "13 Preprocessor1_Model07\n",
       "14 Preprocessor1_Model07\n",
       "15 Preprocessor1_Model08\n",
       "16 Preprocessor1_Model08\n",
       "17 Preprocessor1_Model09\n",
       "18 Preprocessor1_Model09\n",
       "19 Preprocessor1_Model10\n",
       "20 Preprocessor1_Model10"
      ]
     },
     "metadata": {},
     "output_type": "display_data"
    },
    {
     "data": {
      "text/html": [
       "<table class=\"dataframe\">\n",
       "<caption>A tibble: 20 × 7</caption>\n",
       "<thead>\n",
       "\t<tr><th scope=col>penalty</th><th scope=col>.metric</th><th scope=col>.estimator</th><th scope=col>mean</th><th scope=col>n</th><th scope=col>std_err</th><th scope=col>.config</th></tr>\n",
       "\t<tr><th scope=col>&lt;dbl&gt;</th><th scope=col>&lt;chr&gt;</th><th scope=col>&lt;chr&gt;</th><th scope=col>&lt;dbl&gt;</th><th scope=col>&lt;int&gt;</th><th scope=col>&lt;dbl&gt;</th><th scope=col>&lt;chr&gt;</th></tr>\n",
       "</thead>\n",
       "<tbody>\n",
       "\t<tr><td>1.000000e-04</td><td>rmse</td><td>standard</td><td>0.04013316</td><td>5</td><td>0.002873214</td><td>Preprocessor1_Model01</td></tr>\n",
       "\t<tr><td>1.000000e-04</td><td>rsq </td><td>standard</td><td>0.05785710</td><td>5</td><td>0.004271180</td><td>Preprocessor1_Model01</td></tr>\n",
       "\t<tr><td>3.593814e-04</td><td>rmse</td><td>standard</td><td>0.04013316</td><td>5</td><td>0.002873214</td><td>Preprocessor1_Model02</td></tr>\n",
       "\t<tr><td>3.593814e-04</td><td>rsq </td><td>standard</td><td>0.05785710</td><td>5</td><td>0.004271180</td><td>Preprocessor1_Model02</td></tr>\n",
       "\t<tr><td>1.291550e-03</td><td>rmse</td><td>standard</td><td>0.04013338</td><td>5</td><td>0.002875307</td><td>Preprocessor1_Model03</td></tr>\n",
       "\t<tr><td>1.291550e-03</td><td>rsq </td><td>standard</td><td>0.05785663</td><td>5</td><td>0.004285578</td><td>Preprocessor1_Model03</td></tr>\n",
       "\t<tr><td>4.641589e-03</td><td>rmse</td><td>standard</td><td>0.04014172</td><td>5</td><td>0.002887160</td><td>Preprocessor1_Model04</td></tr>\n",
       "\t<tr><td>4.641589e-03</td><td>rsq </td><td>standard</td><td>0.05778418</td><td>5</td><td>0.004374730</td><td>Preprocessor1_Model04</td></tr>\n",
       "\t<tr><td>1.668101e-02</td><td>rmse</td><td>standard</td><td>0.04022125</td><td>5</td><td>0.002911212</td><td>Preprocessor1_Model05</td></tr>\n",
       "\t<tr><td>1.668101e-02</td><td>rsq </td><td>standard</td><td>0.05726356</td><td>5</td><td>0.004569545</td><td>Preprocessor1_Model05</td></tr>\n",
       "\t<tr><td>5.994843e-02</td><td>rmse</td><td>standard</td><td>0.04051312</td><td>5</td><td>0.002930391</td><td>Preprocessor1_Model06</td></tr>\n",
       "\t<tr><td>5.994843e-02</td><td>rsq </td><td>standard</td><td>0.05592145</td><td>5</td><td>0.004784843</td><td>Preprocessor1_Model06</td></tr>\n",
       "\t<tr><td>2.154435e-01</td><td>rmse</td><td>standard</td><td>0.04092078</td><td>5</td><td>0.002925090</td><td>Preprocessor1_Model07</td></tr>\n",
       "\t<tr><td>2.154435e-01</td><td>rsq </td><td>standard</td><td>0.05461586</td><td>5</td><td>0.004895170</td><td>Preprocessor1_Model07</td></tr>\n",
       "\t<tr><td>7.742637e-01</td><td>rmse</td><td>standard</td><td>0.04116627</td><td>5</td><td>0.002914603</td><td>Preprocessor1_Model08</td></tr>\n",
       "\t<tr><td>7.742637e-01</td><td>rsq </td><td>standard</td><td>0.05398692</td><td>5</td><td>0.004930339</td><td>Preprocessor1_Model08</td></tr>\n",
       "\t<tr><td>2.782559e+00</td><td>rmse</td><td>standard</td><td>0.04125667</td><td>5</td><td>0.002909806</td><td>Preprocessor1_Model09</td></tr>\n",
       "\t<tr><td>2.782559e+00</td><td>rsq </td><td>standard</td><td>0.05377560</td><td>5</td><td>0.004940149</td><td>Preprocessor1_Model09</td></tr>\n",
       "\t<tr><td>1.000000e+01</td><td>rmse</td><td>standard</td><td>0.04129488</td><td>5</td><td>0.002907641</td><td>Preprocessor1_Model10</td></tr>\n",
       "\t<tr><td>1.000000e+01</td><td>rsq </td><td>standard</td><td>       NaN</td><td>0</td><td>         NA</td><td>Preprocessor1_Model10</td></tr>\n",
       "</tbody>\n",
       "</table>\n"
      ],
      "text/latex": [
       "A tibble: 20 × 7\n",
       "\\begin{tabular}{lllllll}\n",
       " penalty & .metric & .estimator & mean & n & std\\_err & .config\\\\\n",
       " <dbl> & <chr> & <chr> & <dbl> & <int> & <dbl> & <chr>\\\\\n",
       "\\hline\n",
       "\t 1.000000e-04 & rmse & standard & 0.04013316 & 5 & 0.002873214 & Preprocessor1\\_Model01\\\\\n",
       "\t 1.000000e-04 & rsq  & standard & 0.05785710 & 5 & 0.004271180 & Preprocessor1\\_Model01\\\\\n",
       "\t 3.593814e-04 & rmse & standard & 0.04013316 & 5 & 0.002873214 & Preprocessor1\\_Model02\\\\\n",
       "\t 3.593814e-04 & rsq  & standard & 0.05785710 & 5 & 0.004271180 & Preprocessor1\\_Model02\\\\\n",
       "\t 1.291550e-03 & rmse & standard & 0.04013338 & 5 & 0.002875307 & Preprocessor1\\_Model03\\\\\n",
       "\t 1.291550e-03 & rsq  & standard & 0.05785663 & 5 & 0.004285578 & Preprocessor1\\_Model03\\\\\n",
       "\t 4.641589e-03 & rmse & standard & 0.04014172 & 5 & 0.002887160 & Preprocessor1\\_Model04\\\\\n",
       "\t 4.641589e-03 & rsq  & standard & 0.05778418 & 5 & 0.004374730 & Preprocessor1\\_Model04\\\\\n",
       "\t 1.668101e-02 & rmse & standard & 0.04022125 & 5 & 0.002911212 & Preprocessor1\\_Model05\\\\\n",
       "\t 1.668101e-02 & rsq  & standard & 0.05726356 & 5 & 0.004569545 & Preprocessor1\\_Model05\\\\\n",
       "\t 5.994843e-02 & rmse & standard & 0.04051312 & 5 & 0.002930391 & Preprocessor1\\_Model06\\\\\n",
       "\t 5.994843e-02 & rsq  & standard & 0.05592145 & 5 & 0.004784843 & Preprocessor1\\_Model06\\\\\n",
       "\t 2.154435e-01 & rmse & standard & 0.04092078 & 5 & 0.002925090 & Preprocessor1\\_Model07\\\\\n",
       "\t 2.154435e-01 & rsq  & standard & 0.05461586 & 5 & 0.004895170 & Preprocessor1\\_Model07\\\\\n",
       "\t 7.742637e-01 & rmse & standard & 0.04116627 & 5 & 0.002914603 & Preprocessor1\\_Model08\\\\\n",
       "\t 7.742637e-01 & rsq  & standard & 0.05398692 & 5 & 0.004930339 & Preprocessor1\\_Model08\\\\\n",
       "\t 2.782559e+00 & rmse & standard & 0.04125667 & 5 & 0.002909806 & Preprocessor1\\_Model09\\\\\n",
       "\t 2.782559e+00 & rsq  & standard & 0.05377560 & 5 & 0.004940149 & Preprocessor1\\_Model09\\\\\n",
       "\t 1.000000e+01 & rmse & standard & 0.04129488 & 5 & 0.002907641 & Preprocessor1\\_Model10\\\\\n",
       "\t 1.000000e+01 & rsq  & standard &        NaN & 0 &          NA & Preprocessor1\\_Model10\\\\\n",
       "\\end{tabular}\n"
      ],
      "text/markdown": [
       "\n",
       "A tibble: 20 × 7\n",
       "\n",
       "| penalty &lt;dbl&gt; | .metric &lt;chr&gt; | .estimator &lt;chr&gt; | mean &lt;dbl&gt; | n &lt;int&gt; | std_err &lt;dbl&gt; | .config &lt;chr&gt; |\n",
       "|---|---|---|---|---|---|---|\n",
       "| 1.000000e-04 | rmse | standard | 0.04013316 | 5 | 0.002873214 | Preprocessor1_Model01 |\n",
       "| 1.000000e-04 | rsq  | standard | 0.05785710 | 5 | 0.004271180 | Preprocessor1_Model01 |\n",
       "| 3.593814e-04 | rmse | standard | 0.04013316 | 5 | 0.002873214 | Preprocessor1_Model02 |\n",
       "| 3.593814e-04 | rsq  | standard | 0.05785710 | 5 | 0.004271180 | Preprocessor1_Model02 |\n",
       "| 1.291550e-03 | rmse | standard | 0.04013338 | 5 | 0.002875307 | Preprocessor1_Model03 |\n",
       "| 1.291550e-03 | rsq  | standard | 0.05785663 | 5 | 0.004285578 | Preprocessor1_Model03 |\n",
       "| 4.641589e-03 | rmse | standard | 0.04014172 | 5 | 0.002887160 | Preprocessor1_Model04 |\n",
       "| 4.641589e-03 | rsq  | standard | 0.05778418 | 5 | 0.004374730 | Preprocessor1_Model04 |\n",
       "| 1.668101e-02 | rmse | standard | 0.04022125 | 5 | 0.002911212 | Preprocessor1_Model05 |\n",
       "| 1.668101e-02 | rsq  | standard | 0.05726356 | 5 | 0.004569545 | Preprocessor1_Model05 |\n",
       "| 5.994843e-02 | rmse | standard | 0.04051312 | 5 | 0.002930391 | Preprocessor1_Model06 |\n",
       "| 5.994843e-02 | rsq  | standard | 0.05592145 | 5 | 0.004784843 | Preprocessor1_Model06 |\n",
       "| 2.154435e-01 | rmse | standard | 0.04092078 | 5 | 0.002925090 | Preprocessor1_Model07 |\n",
       "| 2.154435e-01 | rsq  | standard | 0.05461586 | 5 | 0.004895170 | Preprocessor1_Model07 |\n",
       "| 7.742637e-01 | rmse | standard | 0.04116627 | 5 | 0.002914603 | Preprocessor1_Model08 |\n",
       "| 7.742637e-01 | rsq  | standard | 0.05398692 | 5 | 0.004930339 | Preprocessor1_Model08 |\n",
       "| 2.782559e+00 | rmse | standard | 0.04125667 | 5 | 0.002909806 | Preprocessor1_Model09 |\n",
       "| 2.782559e+00 | rsq  | standard | 0.05377560 | 5 | 0.004940149 | Preprocessor1_Model09 |\n",
       "| 1.000000e+01 | rmse | standard | 0.04129488 | 5 | 0.002907641 | Preprocessor1_Model10 |\n",
       "| 1.000000e+01 | rsq  | standard |        NaN | 0 |          NA | Preprocessor1_Model10 |\n",
       "\n"
      ],
      "text/plain": [
       "   penalty      .metric .estimator mean       n std_err    \n",
       "1  1.000000e-04 rmse    standard   0.04013316 5 0.002873214\n",
       "2  1.000000e-04 rsq     standard   0.05785710 5 0.004271180\n",
       "3  3.593814e-04 rmse    standard   0.04013316 5 0.002873214\n",
       "4  3.593814e-04 rsq     standard   0.05785710 5 0.004271180\n",
       "5  1.291550e-03 rmse    standard   0.04013338 5 0.002875307\n",
       "6  1.291550e-03 rsq     standard   0.05785663 5 0.004285578\n",
       "7  4.641589e-03 rmse    standard   0.04014172 5 0.002887160\n",
       "8  4.641589e-03 rsq     standard   0.05778418 5 0.004374730\n",
       "9  1.668101e-02 rmse    standard   0.04022125 5 0.002911212\n",
       "10 1.668101e-02 rsq     standard   0.05726356 5 0.004569545\n",
       "11 5.994843e-02 rmse    standard   0.04051312 5 0.002930391\n",
       "12 5.994843e-02 rsq     standard   0.05592145 5 0.004784843\n",
       "13 2.154435e-01 rmse    standard   0.04092078 5 0.002925090\n",
       "14 2.154435e-01 rsq     standard   0.05461586 5 0.004895170\n",
       "15 7.742637e-01 rmse    standard   0.04116627 5 0.002914603\n",
       "16 7.742637e-01 rsq     standard   0.05398692 5 0.004930339\n",
       "17 2.782559e+00 rmse    standard   0.04125667 5 0.002909806\n",
       "18 2.782559e+00 rsq     standard   0.05377560 5 0.004940149\n",
       "19 1.000000e+01 rmse    standard   0.04129488 5 0.002907641\n",
       "20 1.000000e+01 rsq     standard          NaN 0          NA\n",
       "   .config              \n",
       "1  Preprocessor1_Model01\n",
       "2  Preprocessor1_Model01\n",
       "3  Preprocessor1_Model02\n",
       "4  Preprocessor1_Model02\n",
       "5  Preprocessor1_Model03\n",
       "6  Preprocessor1_Model03\n",
       "7  Preprocessor1_Model04\n",
       "8  Preprocessor1_Model04\n",
       "9  Preprocessor1_Model05\n",
       "10 Preprocessor1_Model05\n",
       "11 Preprocessor1_Model06\n",
       "12 Preprocessor1_Model06\n",
       "13 Preprocessor1_Model07\n",
       "14 Preprocessor1_Model07\n",
       "15 Preprocessor1_Model08\n",
       "16 Preprocessor1_Model08\n",
       "17 Preprocessor1_Model09\n",
       "18 Preprocessor1_Model09\n",
       "19 Preprocessor1_Model10\n",
       "20 Preprocessor1_Model10"
      ]
     },
     "metadata": {},
     "output_type": "display_data"
    }
   ],
   "source": [
    "## For regularization, we perform Lasso and Ridge regression:\n",
    "\n",
    "# install.packages(\"glmnet')\n",
    "library(glmnet)\n",
    "library(tidymodels)\n",
    "\n",
    "# Set seed for reproducibility\n",
    "set.seed(1234)\n",
    "\n",
    "# Define the recipe\n",
    "recipe <- recipe(precip ~ relative_humidity + dry_bulb_temp_f + wind_speed + station_pressure, data = final_data_clean) %>%\n",
    "  step_normalize(all_predictors())\n",
    "\n",
    "# Define the model specifications for Lasso and Ridge\n",
    "lasso_spec <- linear_reg(penalty = tune(), mixture = 1) %>% set_engine(\"glmnet\")\n",
    "ridge_spec <- linear_reg(penalty = tune(), mixture = 0) %>% set_engine(\"glmnet\")\n",
    "\n",
    "# Create cross-validation resamples\n",
    "cv_folds <- vfold_cv(final_data_clean, v = 5)\n",
    "\n",
    "# Tune the models using grid search\n",
    "tune_grid <- grid_regular(penalty(range = c(-4, 1)), levels = 10)\n",
    "\n",
    "# Define the workflow\n",
    "lasso_workflow <- workflow() %>%\n",
    "  add_recipe(recipe) %>%\n",
    "  add_model(lasso_spec)\n",
    "\n",
    "ridge_workflow <- workflow() %>%\n",
    "  add_recipe(recipe) %>%\n",
    "  add_model(ridge_spec)\n",
    "\n",
    "# Tune the models\n",
    "lasso_tuned <- tune_grid(lasso_workflow, resamples = cv_folds, grid = tune_grid, metrics = metric_set(rmse, rsq))\n",
    "ridge_tuned <- tune_grid(ridge_workflow, resamples = cv_folds, grid = tune_grid, metrics = metric_set(rmse, rsq))\n",
    "\n",
    "# Extract the best model for Lasso and Ridge\n",
    "best_lasso <- select_best(lasso_tuned, \"rmse\")\n",
    "best_ridge <- select_best(ridge_tuned, \"rmse\")\n",
    "\n",
    "# Finalize the workflows\n",
    "final_lasso_workflow <- finalize_workflow(lasso_workflow, best_lasso)\n",
    "final_ridge_workflow <- finalize_workflow(ridge_workflow, best_ridge)\n",
    "\n",
    "# Fit the final models on the training set\n",
    "final_lasso_fit <- fit(final_lasso_workflow, data = final_data_clean)\n",
    "final_ridge_fit <- fit(final_ridge_workflow, data = final_data_clean)\n",
    "\n",
    "# Evaluate the final models\n",
    "lasso_metrics <- collect_metrics(lasso_tuned)\n",
    "ridge_metrics <- collect_metrics(ridge_tuned)\n",
    "\n",
    "# Print model performance metrics\n",
    "lasso_metrics\n",
    "ridge_metrics"
   ]
  },
  {
   "cell_type": "markdown",
   "metadata": {},
   "source": [
    "<a id=\"cell10\"></a>\n",
    "## 10. Find Best Model\n",
    "Compare the regression metrics of each model from section 9 to find the best model overall. To do this, \n",
    "\n",
    "1. Evaluate the models on the **testing set** using at least one metric (like MSE, RMSE or R-squared).\n",
    "2. After calculating the metrics on the testing set for each model, print them out in as a table to easily compare. You can use something like:\n",
    "```\n",
    "model_names <- c(\"model_1\", \"model_2\", \"model_3\")\n",
    "train_error <- c(\"model_1_value\", \"model_2_value\", \"model_3_value\")\n",
    "test_error <- c(\"model_1_value\", \"model_2_value\", \"model_3_value\")\n",
    "comparison_df <- data.frame(model_names, train_error, test_error)\n",
    "```\n",
    "3. Finally, from the comparison table you create, conclude which model performed the best.\n"
   ]
  },
  {
   "cell_type": "code",
   "execution_count": 245,
   "metadata": {},
   "outputs": [
    {
     "name": "stdout",
     "output_type": "stream",
     "text": [
      "      model_names train_rmse test_rsquared\n",
      "1 multiple_linear 0.02160634    0.08560542\n",
      "2      polynomial 0.02160652    0.08560311\n"
     ]
    }
   ],
   "source": [
    "library(dplyr)\n",
    "library(broom)\n",
    "library(yardstick)\n",
    "library(tidymodels)\n",
    "\n",
    "# Define a function to calculate RMSE and R-squared\n",
    "evaluate_model <- function(model, testing_data, response_var) {\n",
    "  predictions <- predict(model, newdata = testing_data)\n",
    "  results <- bind_cols(testing_data, predictions = predictions)\n",
    "  metrics <- results %>%\n",
    "    metrics(truth = !!sym(response_var), estimate = predictions) %>%\n",
    "    filter(.metric %in% c(\"rmse\", \"rsq\"))\n",
    "  return(metrics)\n",
    "}\n",
    "\n",
    "# Evaluate multiple linear regression model\n",
    "model_multiple_metrics <- evaluate_model(model_multiple, testing_data, \"precip\")\n",
    "\n",
    "# Evaluate polynomial regression model\n",
    "model_poly_metrics <- evaluate_model(model_poly, testing_data, \"precip\")\n",
    "\n",
    "# Combine metrics into a comparison table\n",
    "model_names <- c(\"multiple_linear\", \"polynomial\")\n",
    "\n",
    "train_rmse <- c(\n",
    "  model_multiple_metrics %>% filter(.metric == \"rmse\") %>% pull(.estimate),\n",
    "  model_poly_metrics %>% filter(.metric == \"rmse\") %>% pull(.estimate)\n",
    ")\n",
    "\n",
    "test_rsquared <- c(\n",
    "  model_multiple_metrics %>% filter(.metric == \"rsq\") %>% pull(.estimate),\n",
    "  model_poly_metrics %>% filter(.metric == \"rsq\") %>% pull(.estimate)\n",
    ")\n",
    "\n",
    "comparison_df <- data.frame(\n",
    "  model_names = model_names,\n",
    "  train_rmse = train_rmse,\n",
    "  test_rsquared = test_rsquared\n",
    ")\n",
    "\n",
    "# Print the comparison table\n",
    "print(comparison_df)\n",
    "\n"
   ]
  },
  {
   "cell_type": "code",
   "execution_count": 251,
   "metadata": {},
   "outputs": [],
   "source": [
    "## Comparison Resuit\n",
    "## by the comparison above, we can state that the multiple linear regression is better in this case with a lower rmse and a higher r-squared value. "
   ]
  },
  {
   "cell_type": "markdown",
   "metadata": {},
   "source": [
    "## Author(s)\n",
    "\n",
    "<h4> Yiwen Li </h4>\n",
    "\n",
    "## Contributions\n",
    "\n",
    "<h4> Tiffany Zhu </h4>\n",
    "\n",
    "## <h3 align=\"center\"> © IBM Corporation 2021. All rights reserved. <h3/>\n"
   ]
  },
  {
   "cell_type": "code",
   "execution_count": null,
   "metadata": {},
   "outputs": [],
   "source": []
  }
 ],
 "metadata": {
  "kernelspec": {
   "display_name": "R",
   "language": "R",
   "name": "ir"
  },
  "language_info": {
   "codemirror_mode": "r",
   "file_extension": ".r",
   "mimetype": "text/x-r-source",
   "name": "R",
   "pygments_lexer": "r",
   "version": "4.1.3"
  }
 },
 "nbformat": 4,
 "nbformat_minor": 4
}
